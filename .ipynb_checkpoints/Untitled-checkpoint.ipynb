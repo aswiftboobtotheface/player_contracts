{
 "cells": [
  {
   "cell_type": "code",
   "execution_count": 123,
   "metadata": {
    "collapsed": true
   },
   "outputs": [],
   "source": [
    "import numpy as np\n",
    "import pandas as pd\n",
    "import re\n",
    "\n",
    "pd.options.display.max_rows = 50\n",
    "pd.options.display.max_columns = 100"
   ]
  },
  {
   "cell_type": "code",
   "execution_count": 124,
   "metadata": {
    "collapsed": false
   },
   "outputs": [],
   "source": [
    "df = pd.read_csv('test.csv')\n",
    "batting_2008 = pd.read_csv('batting_2008.csv')\n",
    "batting_2009 = pd.read_csv('batting_2009.csv')\n",
    "batting_2010 = pd.read_csv('batting_2010.csv')\n",
    "batting_2011 = pd.read_csv('batting_2011.csv')\n",
    "batting_2012 = pd.read_csv('batting_2012.csv')\n",
    "batting_2013 = pd.read_csv('batting_2013.csv')\n",
    "batting_2014 = pd.read_csv('batting_2014.csv')\n",
    "batting_2015 = pd.read_csv('batting_2015.csv')\n",
    "pitching_2008 = pd.read_csv('pitching_2008.csv')\n",
    "pitching_2009 = pd.read_csv('pitching_2009.csv')\n",
    "pitching_2010 = pd.read_csv('pitching_2010.csv')\n",
    "pitching_2011 = pd.read_csv('pitching_2011.csv')\n",
    "pitching_2012 = pd.read_csv('pitching_2012.csv')\n",
    "pitching_2013 = pd.read_csv('pitching_2013.csv')\n",
    "pitching_2014 = pd.read_csv('pitching_2014.csv')\n",
    "pitching_2015 = pd.read_csv('pitching_2015.csv')"
   ]
  },
  {
   "cell_type": "code",
   "execution_count": 109,
   "metadata": {
    "collapsed": false
   },
   "outputs": [],
   "source": [
    "data = df[['Rk','Name','Age','Tm','Lg','G','PA','AB','R','H','2B','3B','HR','RBI','SB','CS','BB','SO','BA','OBP','SLG','OPS','OPS+','TB','GDP','HBP','SH','SF','IBB','Pos Summary']]"
   ]
  },
  {
   "cell_type": "code",
   "execution_count": 126,
   "metadata": {
    "collapsed": false
   },
   "outputs": [],
   "source": [
    "batting_2008.drop_duplicates(subset=['Name'], keep='first', inplace = True)\n",
    "batting_2008['Name'] = batting_2008['Name'].str.replace('*', '')\n",
    "\n",
    "batting_2009.drop_duplicates(subset=['Name'], keep='first', inplace = True)\n",
    "batting_2009['Name'] = batting_2009['Name'].str.replace('*', '')\n",
    "\n",
    "batting_2010.drop_duplicates(subset=['Name'], keep='first', inplace = True)\n",
    "batting_2010['Name'] = batting_2010['Name'].str.replace('*', '')\n",
    "\n",
    "batting_2011.drop_duplicates(subset=['Name'], keep='first', inplace = True)\n",
    "batting_2011['Name'] = batting_2011['Name'].str.replace('*', '')\n",
    "\n",
    "batting_2012.drop_duplicates(subset=['Name'], keep='first', inplace = True)\n",
    "batting_2012['Name'] = batting_2012['Name'].str.replace('*', '')\n",
    "\n",
    "batting_2013.drop_duplicates(subset=['Name'], keep='first', inplace = True)\n",
    "batting_2013['Name'] = batting_2013['Name'].str.replace('*', '')\n",
    "\n",
    "batting_2014.drop_duplicates(subset=['Name'], keep='first', inplace = True)\n",
    "batting_2014['Name'] = batting_2014['Name'].str.replace('*', '')\n",
    "\n",
    "batting_2015.drop_duplicates(subset=['Name'], keep='first', inplace = True)\n",
    "batting_2015['Name'] = batting_2015['Name'].str.replace('*', '')\n",
    "\n",
    "pitching_2008.drop_duplicates(subset=['Name'], keep='first', inplace = True)\n",
    "pitching_2008['Name'] = pitching_2008['Name'].str.replace('*', '')\n",
    "\n",
    "pitching_2009.drop_duplicates(subset=['Name'], keep='first', inplace = True)\n",
    "pitching_2009['Name'] = pitching_2009['Name'].str.replace('*', '')\n",
    "\n",
    "pitching_2010.drop_duplicates(subset=['Name'], keep='first', inplace = True)\n",
    "pitching_2010['Name'] = pitching_2010['Name'].str.replace('*', '')\n",
    "\n",
    "pitching_2011.drop_duplicates(subset=['Name'], keep='first', inplace = True)\n",
    "pitching_2011['Name'] = pitching_2011['Name'].str.replace('*', '')\n",
    "\n",
    "pitching_2012.drop_duplicates(subset=['Name'], keep='first', inplace = True)\n",
    "pitching_2012['Name'] = pitching_2012['Name'].str.replace('*', '')\n",
    "\n",
    "pitching_2013.drop_duplicates(subset=['Name'], keep='first', inplace = True)\n",
    "pitching_2013['Name'] = pitching_2013['Name'].str.replace('*', '')\n",
    "\n",
    "pitching_2014.drop_duplicates(subset=['Name'], keep='first', inplace = True)\n",
    "pitching_2014['Name'] = pitching_2014['Name'].str.replace('*', '')\n",
    "\n",
    "pitching_2015.drop_duplicates(subset=['Name'], keep='first', inplace = True)\n",
    "pitching_2015['Name'] = pitching_2015['Name'].str.replace('*', '')"
   ]
  },
  {
   "cell_type": "code",
   "execution_count": null,
   "metadata": {
    "collapsed": false
   },
   "outputs": [],
   "source": []
  },
  {
   "cell_type": "code",
   "execution_count": null,
   "metadata": {
    "collapsed": false
   },
   "outputs": [],
   "source": []
  },
  {
   "cell_type": "code",
   "execution_count": null,
   "metadata": {
    "collapsed": false
   },
   "outputs": [],
   "source": []
  },
  {
   "cell_type": "code",
   "execution_count": null,
   "metadata": {
    "collapsed": false
   },
   "outputs": [],
   "source": []
  },
  {
   "cell_type": "code",
   "execution_count": null,
   "metadata": {
    "collapsed": true
   },
   "outputs": [],
   "source": []
  }
 ],
 "metadata": {
  "kernelspec": {
   "display_name": "Python 2",
   "language": "python",
   "name": "python2"
  },
  "language_info": {
   "codemirror_mode": {
    "name": "ipython",
    "version": 2
   },
   "file_extension": ".py",
   "mimetype": "text/x-python",
   "name": "python",
   "nbconvert_exporter": "python",
   "pygments_lexer": "ipython2",
   "version": "2.7.11"
  }
 },
 "nbformat": 4,
 "nbformat_minor": 0
}
