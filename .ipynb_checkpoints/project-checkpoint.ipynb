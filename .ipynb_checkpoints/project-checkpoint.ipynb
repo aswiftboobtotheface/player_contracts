{
 "cells": [
  {
   "cell_type": "code",
   "execution_count": 272,
   "metadata": {
    "collapsed": false
   },
   "outputs": [],
   "source": [
    "%matplotlib inline\n",
    "import matplotlib.pyplot as plt\n",
    "import numpy as np\n",
    "import pandas as pd\n",
    "import re\n",
    "from sklearn import datasets, linear_model\n",
    "#import sklearn.linear_model as sm\n",
    "#from sklearn.linear_model import LinearRegression\n",
    "\n",
    "pd.options.display.max_rows = 50\n",
    "pd.options.display.max_columns = 100\n",
    "\n",
    "lm = linear_model.LinearRegression()"
   ]
  },
  {
   "cell_type": "code",
   "execution_count": 273,
   "metadata": {
    "collapsed": false
   },
   "outputs": [],
   "source": [
    "df = pd.read_csv('test.csv')\n",
    "batting_2008 = pd.read_csv('batting_2008.csv')\n",
    "batting_2009 = pd.read_csv('batting_2009.csv')\n",
    "batting_2010 = pd.read_csv('batting_2010.csv')\n",
    "batting_2011 = pd.read_csv('batting_2011.csv')\n",
    "batting_2012 = pd.read_csv('batting_2012.csv')\n",
    "batting_2013 = pd.read_csv('batting_2013.csv')\n",
    "batting_2014 = pd.read_csv('batting_2014.csv')\n",
    "batting_2015 = pd.read_csv('batting_2015.csv')\n",
    "\n",
    "pitching_2008 = pd.read_csv('pitching_2008.csv')\n",
    "pitching_2009 = pd.read_csv('pitching_2009.csv')\n",
    "pitching_2010 = pd.read_csv('pitching_2010.csv')\n",
    "pitching_2011 = pd.read_csv('pitching_2011.csv')\n",
    "pitching_2012 = pd.read_csv('pitching_2012.csv')\n",
    "pitching_2013 = pd.read_csv('pitching_2013.csv')\n",
    "pitching_2014 = pd.read_csv('pitching_2014.csv')\n",
    "pitching_2015 = pd.read_csv('pitching_2015.csv')\n",
    "\n",
    "player_contracts = pd.read_csv('player_contracts.csv')\n",
    "bdf = pd.read_csv('batter_contracts.csv')\n",
    "pdf = pd.read_csv('pitcher_contracts.csv')"
   ]
  },
  {
   "cell_type": "code",
   "execution_count": 274,
   "metadata": {
    "collapsed": false
   },
   "outputs": [],
   "source": [
    "data = df[['Rk','Name','Age','Tm','Lg','G','PA','AB','R','H','2B','3B','HR','RBI','SB','CS','BB','SO','BA','OBP','SLG','OPS','OPS+','TB','GDP','HBP','SH','SF','IBB','Pos Summary']]"
   ]
  },
  {
   "cell_type": "code",
   "execution_count": 275,
   "metadata": {
    "collapsed": false
   },
   "outputs": [],
   "source": [
    "batting_2008.drop_duplicates(subset=['Name'], keep='first', inplace = True)\n",
    "batting_2008['Name'] = batting_2008['Name'].str.replace('*', '')\n",
    "batting_2008['year'] = '2008'\n",
    "\n",
    "batting_2009.drop_duplicates(subset=['Name'], keep='first', inplace = True)\n",
    "batting_2009['Name'] = batting_2009['Name'].str.replace('*', '')\n",
    "batting_2009['year'] = '2009'\n",
    "\n",
    "batting_2010.drop_duplicates(subset=['Name'], keep='first', inplace = True)\n",
    "batting_2010['Name'] = batting_2010['Name'].str.replace('*', '')\n",
    "batting_2010['year'] = '2010'\n",
    "\n",
    "batting_2011.drop_duplicates(subset=['Name'], keep='first', inplace = True)\n",
    "batting_2011['Name'] = batting_2011['Name'].str.replace('*', '')\n",
    "batting_2011['year'] = '2011'\n",
    "\n",
    "batting_2012.drop_duplicates(subset=['Name'], keep='first', inplace = True)\n",
    "batting_2012['Name'] = batting_2012['Name'].str.replace('*', '')\n",
    "batting_2012['year'] = '2012'\n",
    "\n",
    "batting_2013.drop_duplicates(subset=['Name'], keep='first', inplace = True)\n",
    "batting_2013['Name'] = batting_2013['Name'].str.replace('*', '')\n",
    "batting_2013['year'] = '2013'\n",
    "\n",
    "batting_2014.drop_duplicates(subset=['Name'], keep='first', inplace = True)\n",
    "batting_2014['Name'] = batting_2014['Name'].str.replace('*', '')\n",
    "batting_2014['year'] = '2014'\n",
    "\n",
    "batting_2015.drop_duplicates(subset=['Name'], keep='first', inplace = True)\n",
    "batting_2015['Name'] = batting_2015['Name'].str.replace('*', '')\n",
    "batting_2015['year'] = '2015'\n",
    "\n",
    "pitching_2008.drop_duplicates(subset=['Name'], keep='first', inplace = True)\n",
    "pitching_2008['Name'] = pitching_2008['Name'].str.replace('*', '')\n",
    "pitching_2008['year'] = '2008'\n",
    "\n",
    "pitching_2009.drop_duplicates(subset=['Name'], keep='first', inplace = True)\n",
    "pitching_2009['Name'] = pitching_2009['Name'].str.replace('*', '')\n",
    "pitching_2009['year'] = '2009'\n",
    "\n",
    "pitching_2010.drop_duplicates(subset=['Name'], keep='first', inplace = True)\n",
    "pitching_2010['Name'] = pitching_2010['Name'].str.replace('*', '')\n",
    "pitching_2010['year'] = '2010'\n",
    "\n",
    "pitching_2011.drop_duplicates(subset=['Name'], keep='first', inplace = True)\n",
    "pitching_2011['Name'] = pitching_2011['Name'].str.replace('*', '')\n",
    "pitching_2011['year'] = '2011'\n",
    "\n",
    "pitching_2012.drop_duplicates(subset=['Name'], keep='first', inplace = True)\n",
    "pitching_2012['Name'] = pitching_2012['Name'].str.replace('*', '')\n",
    "pitching_2012['year'] = '2012'\n",
    "\n",
    "pitching_2013.drop_duplicates(subset=['Name'], keep='first', inplace = True)\n",
    "pitching_2013['Name'] = pitching_2013['Name'].str.replace('*', '')\n",
    "pitching_2013['year'] = '2013'\n",
    "\n",
    "pitching_2014.drop_duplicates(subset=['Name'], keep='first', inplace = True)\n",
    "pitching_2014['Name'] = pitching_2014['Name'].str.replace('*', '')\n",
    "pitching_2014['year'] = '2014'\n",
    "\n",
    "pitching_2015.drop_duplicates(subset=['Name'], keep='first', inplace = True)\n",
    "pitching_2015['Name'] = pitching_2015['Name'].str.replace('*', '')\n",
    "pitching_2015['year'] = '2015'\n",
    "\n",
    "batting_temp_df = [batting_2008, batting_2009, batting_2010, batting_2011, batting_2012, batting_2013, batting_2014, batting_2015]\n",
    "batting = pd.concat(batting_temp_df, keys = ['a','b','c','d','e','f','g','h'])\n",
    "batting['year'] = batting['year'].astype('int')\n",
    "\n",
    "pitching_temp_df = [pitching_2008, pitching_2009, pitching_2010, pitching_2011, pitching_2012, pitching_2013, pitching_2014, pitching_2015]\n",
    "pitching = pd.concat(pitching_temp_df, keys = ['a','b','c','d','e','f','g','h'])\n",
    "pitching['year'] = pitching['year'].astype('int')"
   ]
  },
  {
   "cell_type": "code",
   "execution_count": 276,
   "metadata": {
    "collapsed": false
   },
   "outputs": [],
   "source": [
    "bdf['Name'] = bdf.PLAYER.str.split('(').str.get(0)\n",
    "bdf['Temp_Year'] = bdf.PLAYER.str.split('(').str.get(1)\n",
    "bdf['First_Year'] = bdf.Temp_Year.str.split('-').str.get(0)\n",
    "bdf['LYTemp'] = bdf.Temp_Year.str.split('-').str.get(1)\n",
    "bdf['Last_Year'] = bdf.LYTemp.str.split(')').str.get(0)\n",
    "\n",
    "pdf['Name'] = pdf.PLAYER.str.split('(').str.get(0)\n",
    "pdf['Temp_Year'] = pdf.PLAYER.str.split('(').str.get(1)\n",
    "pdf['First_Year'] = pdf.Temp_Year.str.split('-').str.get(0)\n",
    "pdf['LYTemp'] = pdf.Temp_Year.str.split('-').str.get(1)\n",
    "pdf['Last_Year'] = pdf.LYTemp.str.split(')').str.get(0)\n",
    "\n"
   ]
  },
  {
   "cell_type": "code",
   "execution_count": 277,
   "metadata": {
    "collapsed": false
   },
   "outputs": [],
   "source": [
    "bdf['Contract_Year'] = bdf['First_Year'].astype('int')\n",
    "bdf['Contract_Year'] = bdf['Contract_Year'] -1\n",
    "\n",
    "pdf['Contract_Year'] = pdf['First_Year'].astype('int')\n",
    "pdf['Contract_Year'] = pdf['Contract_Year'] -1\n",
    "\n",
    "#player_contracts.count()\n",
    "#bdf.count() + pdf.count()"
   ]
  },
  {
   "cell_type": "code",
   "execution_count": null,
   "metadata": {
    "collapsed": false
   },
   "outputs": [],
   "source": [
    "\n"
   ]
  },
  {
   "cell_type": "code",
   "execution_count": null,
   "metadata": {
    "collapsed": false
   },
   "outputs": [],
   "source": []
  },
  {
   "cell_type": "code",
   "execution_count": null,
   "metadata": {
    "collapsed": false
   },
   "outputs": [],
   "source": []
  },
  {
   "cell_type": "code",
   "execution_count": null,
   "metadata": {
    "collapsed": false
   },
   "outputs": [],
   "source": []
  },
  {
   "cell_type": "code",
   "execution_count": 278,
   "metadata": {
    "collapsed": false
   },
   "outputs": [],
   "source": [
    "bdf['year']=bdf.Contract_Year\n",
    "pdf['year']=pdf.Contract_Year\n"
   ]
  },
  {
   "cell_type": "code",
   "execution_count": 279,
   "metadata": {
    "collapsed": true
   },
   "outputs": [],
   "source": [
    "bcdf=pd.merge(batting,bdf, on=['year', 'Name'], how='right')\n",
    "pcdf=pd.merge(pitching,pdf, on=['year', 'Name'], how='right')"
   ]
  },
  {
   "cell_type": "code",
   "execution_count": 280,
   "metadata": {
    "collapsed": false
   },
   "outputs": [],
   "source": [
    "#bcdf.to_csv('bcdf.csv')\n",
    "#pcdf.to_csv('pcdf.csv')"
   ]
  },
  {
   "cell_type": "code",
   "execution_count": null,
   "metadata": {
    "collapsed": false
   },
   "outputs": [],
   "source": []
  },
  {
   "cell_type": "code",
   "execution_count": 289,
   "metadata": {
    "collapsed": false
   },
   "outputs": [],
   "source": [
    "bcdf_modified = pd.read_csv('bcdf_modified.csv')\n",
    "pcdf_modified = pd.read_csv('pcdf_modified.csv')\n",
    "bcdf_modified['DOLLARS'] = bcdf_modified['DOLLARS'].str.replace('$', '').str.replace(',', '')\n",
    "pcdf_modified['DOLLARS'] = pcdf_modified['DOLLARS'].str.replace('$', '').str.replace(',', '')\n",
    "\n",
    "bcdf_modified['DOLLARS'] = bcdf_modified['DOLLARS'].astype('int')\n",
    "pcdf_modified['DOLLARS'] = pcdf_modified['DOLLARS'].astype('int')\n",
    "\n",
    "#bcdf_modified['2B'] = bcdf_modified['2B'].astype('int')\n",
    "#pcdf_modified['2B'] = pcdf_modified['2B'].astype('int')\n",
    "\n",
    "#list(bcdf_modified.columns.values)"
   ]
  },
  {
   "cell_type": "code",
   "execution_count": 290,
   "metadata": {
    "collapsed": false
   },
   "outputs": [
    {
     "ename": "ValueError",
     "evalue": "invalid literal for float(): 2B",
     "output_type": "error",
     "traceback": [
      "\u001b[0;31m---------------------------------------------------------------------------\u001b[0m",
      "\u001b[0;31mValueError\u001b[0m                                Traceback (most recent call last)",
      "\u001b[0;32m<ipython-input-290-b811727e8875>\u001b[0m in \u001b[0;36m<module>\u001b[0;34m()\u001b[0m\n\u001b[1;32m     33\u001b[0m \u001b[0;31m#bcdf_modified.count()\u001b[0m\u001b[0;34m\u001b[0m\u001b[0;34m\u001b[0m\u001b[0m\n\u001b[1;32m     34\u001b[0m \u001b[0;34m\u001b[0m\u001b[0m\n\u001b[0;32m---> 35\u001b[0;31m \u001b[0mlm\u001b[0m\u001b[0;34m.\u001b[0m\u001b[0mfit\u001b[0m\u001b[0;34m(\u001b[0m\u001b[0mbcdf_modified\u001b[0m\u001b[0;34m[\u001b[0m\u001b[0mbcdf_features\u001b[0m\u001b[0;34m]\u001b[0m\u001b[0;34m,\u001b[0m \u001b[0mbcdf_modified\u001b[0m\u001b[0;34m[\u001b[0m\u001b[0;34m'DOLLARS'\u001b[0m\u001b[0;34m]\u001b[0m\u001b[0;34m)\u001b[0m\u001b[0;34m\u001b[0m\u001b[0m\n\u001b[0m\u001b[1;32m     36\u001b[0m \u001b[0mlm\u001b[0m\u001b[0;34m.\u001b[0m\u001b[0msummary\u001b[0m\u001b[0;34m(\u001b[0m\u001b[0;34m)\u001b[0m\u001b[0;34m\u001b[0m\u001b[0m\n\u001b[1;32m     37\u001b[0m \u001b[0;31m#bcdf_modified.head()\u001b[0m\u001b[0;34m\u001b[0m\u001b[0;34m\u001b[0m\u001b[0m\n",
      "\u001b[0;32m/Users/bedwatch/anaconda/lib/python2.7/site-packages/sklearn/linear_model/base.pyc\u001b[0m in \u001b[0;36mfit\u001b[0;34m(self, X, y, sample_weight)\u001b[0m\n\u001b[1;32m    425\u001b[0m         \u001b[0mn_jobs_\u001b[0m \u001b[0;34m=\u001b[0m \u001b[0mself\u001b[0m\u001b[0;34m.\u001b[0m\u001b[0mn_jobs\u001b[0m\u001b[0;34m\u001b[0m\u001b[0m\n\u001b[1;32m    426\u001b[0m         X, y = check_X_y(X, y, accept_sparse=['csr', 'csc', 'coo'],\n\u001b[0;32m--> 427\u001b[0;31m                          y_numeric=True, multi_output=True)\n\u001b[0m\u001b[1;32m    428\u001b[0m \u001b[0;34m\u001b[0m\u001b[0m\n\u001b[1;32m    429\u001b[0m         \u001b[0;32mif\u001b[0m \u001b[0;34m(\u001b[0m\u001b[0;34m(\u001b[0m\u001b[0msample_weight\u001b[0m \u001b[0;32mis\u001b[0m \u001b[0;32mnot\u001b[0m \u001b[0mNone\u001b[0m\u001b[0;34m)\u001b[0m \u001b[0;32mand\u001b[0m \u001b[0mnp\u001b[0m\u001b[0;34m.\u001b[0m\u001b[0matleast_1d\u001b[0m\u001b[0;34m(\u001b[0m\u001b[0msample_weight\u001b[0m\u001b[0;34m)\u001b[0m\u001b[0;34m.\u001b[0m\u001b[0mndim\u001b[0m \u001b[0;34m>\u001b[0m \u001b[0;36m1\u001b[0m\u001b[0;34m)\u001b[0m\u001b[0;34m:\u001b[0m\u001b[0;34m\u001b[0m\u001b[0m\n",
      "\u001b[0;32m/Users/bedwatch/anaconda/lib/python2.7/site-packages/sklearn/utils/validation.pyc\u001b[0m in \u001b[0;36mcheck_X_y\u001b[0;34m(X, y, accept_sparse, dtype, order, copy, force_all_finite, ensure_2d, allow_nd, multi_output, ensure_min_samples, ensure_min_features, y_numeric, warn_on_dtype, estimator)\u001b[0m\n\u001b[1;32m    508\u001b[0m     X = check_array(X, accept_sparse, dtype, order, copy, force_all_finite,\n\u001b[1;32m    509\u001b[0m                     \u001b[0mensure_2d\u001b[0m\u001b[0;34m,\u001b[0m \u001b[0mallow_nd\u001b[0m\u001b[0;34m,\u001b[0m \u001b[0mensure_min_samples\u001b[0m\u001b[0;34m,\u001b[0m\u001b[0;34m\u001b[0m\u001b[0m\n\u001b[0;32m--> 510\u001b[0;31m                     ensure_min_features, warn_on_dtype, estimator)\n\u001b[0m\u001b[1;32m    511\u001b[0m     \u001b[0;32mif\u001b[0m \u001b[0mmulti_output\u001b[0m\u001b[0;34m:\u001b[0m\u001b[0;34m\u001b[0m\u001b[0m\n\u001b[1;32m    512\u001b[0m         y = check_array(y, 'csr', force_all_finite=True, ensure_2d=False,\n",
      "\u001b[0;32m/Users/bedwatch/anaconda/lib/python2.7/site-packages/sklearn/utils/validation.pyc\u001b[0m in \u001b[0;36mcheck_array\u001b[0;34m(array, accept_sparse, dtype, order, copy, force_all_finite, ensure_2d, allow_nd, ensure_min_samples, ensure_min_features, warn_on_dtype, estimator)\u001b[0m\n\u001b[1;32m    391\u001b[0m         \u001b[0;31m# make sure we acually converted to numeric:\u001b[0m\u001b[0;34m\u001b[0m\u001b[0;34m\u001b[0m\u001b[0m\n\u001b[1;32m    392\u001b[0m         \u001b[0;32mif\u001b[0m \u001b[0mdtype_numeric\u001b[0m \u001b[0;32mand\u001b[0m \u001b[0marray\u001b[0m\u001b[0;34m.\u001b[0m\u001b[0mdtype\u001b[0m\u001b[0;34m.\u001b[0m\u001b[0mkind\u001b[0m \u001b[0;34m==\u001b[0m \u001b[0;34m\"O\"\u001b[0m\u001b[0;34m:\u001b[0m\u001b[0;34m\u001b[0m\u001b[0m\n\u001b[0;32m--> 393\u001b[0;31m             \u001b[0marray\u001b[0m \u001b[0;34m=\u001b[0m \u001b[0marray\u001b[0m\u001b[0;34m.\u001b[0m\u001b[0mastype\u001b[0m\u001b[0;34m(\u001b[0m\u001b[0mnp\u001b[0m\u001b[0;34m.\u001b[0m\u001b[0mfloat64\u001b[0m\u001b[0;34m)\u001b[0m\u001b[0;34m\u001b[0m\u001b[0m\n\u001b[0m\u001b[1;32m    394\u001b[0m         \u001b[0;32mif\u001b[0m \u001b[0;32mnot\u001b[0m \u001b[0mallow_nd\u001b[0m \u001b[0;32mand\u001b[0m \u001b[0marray\u001b[0m\u001b[0;34m.\u001b[0m\u001b[0mndim\u001b[0m \u001b[0;34m>=\u001b[0m \u001b[0;36m3\u001b[0m\u001b[0;34m:\u001b[0m\u001b[0;34m\u001b[0m\u001b[0m\n\u001b[1;32m    395\u001b[0m             raise ValueError(\"Found array with dim %d. %s expected <= 2.\"\n",
      "\u001b[0;31mValueError\u001b[0m: invalid literal for float(): 2B"
     ]
    }
   ],
   "source": [
    "bcdf_features = [\n",
    " 'Age',\n",
    " 'Lg',\n",
    " 'G',\n",
    " 'AB',\n",
    " 'R',\n",
    " 'H',\n",
    " '2B',\n",
    " '3B',\n",
    " 'HR',\n",
    " 'RBI',\n",
    " 'SB',\n",
    " 'CS',\n",
    " 'BB',\n",
    " 'SO',\n",
    " 'BA',\n",
    " 'OBP',\n",
    " 'SLG',\n",
    " 'OPS',\n",
    " 'OPS+',\n",
    " 'TB',\n",
    " 'GDP',\n",
    " 'HBP',\n",
    " 'SH',\n",
    " 'SF',\n",
    " 'IBB',\n",
    " 'POS',\n",
    " 'AGE',\n",
    " 'DOLLARS']\n",
    "\n",
    "bcdf_modified = bcdf_modified.dropna(subset=['BA'])\n",
    "#bcdf_modified = bcdf_modified.BA.dropna()\n",
    "#bcdf_modified.count()\n",
    "\n",
    "lm.fit(bcdf_modified[bcdf_features], bcdf_modified['DOLLARS'])\n",
    "lm.summary()\n",
    "#bcdf_modified.head()"
   ]
  },
  {
   "cell_type": "code",
   "execution_count": null,
   "metadata": {
    "collapsed": false
   },
   "outputs": [],
   "source": []
  },
  {
   "cell_type": "code",
   "execution_count": null,
   "metadata": {
    "collapsed": true
   },
   "outputs": [],
   "source": []
  }
 ],
 "metadata": {
  "kernelspec": {
   "display_name": "Python 2",
   "language": "python",
   "name": "python2"
  },
  "language_info": {
   "codemirror_mode": {
    "name": "ipython",
    "version": 2
   },
   "file_extension": ".py",
   "mimetype": "text/x-python",
   "name": "python",
   "nbconvert_exporter": "python",
   "pygments_lexer": "ipython2",
   "version": "2.7.11"
  }
 },
 "nbformat": 4,
 "nbformat_minor": 0
}
